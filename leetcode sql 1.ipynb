{
 "cells": [
  {
   "cell_type": "markdown",
   "id": "1ade86c8-1fe0-478c-82b8-3a1e7f723698",
   "metadata": {},
   "source": [
    "# 176. Second Highest Salary\n",
    "<div><p>Table: <code>Employee</code></p>\n",
    "\n",
    "<pre>+-------------+------+\n",
    "| Column Name | Type |\n",
    "+-------------+------+\n",
    "| id          | int  |\n",
    "| salary      | int  |\n",
    "+-------------+------+\n",
    "id is the primary key column for this table.\n",
    "Each row of this table contains information about the salary of an employee.\n",
    "</pre>\n",
    "\n",
    "<p>&nbsp;</p>\n",
    "\n",
    "<p>Write an SQL query to report the second highest salary from the <code>Employee</code> table. If there is no second highest salary, the query should report <code>null</code>.</p>\n",
    "\n",
    "<p>The query result format is in the following example.</p>\n",
    "\n",
    "<p>&nbsp;</p>\n",
    "<p><strong>Example 1:</strong></p>\n",
    "\n",
    "<pre><strong>Input:</strong> \n",
    "Employee table:\n",
    "+----+--------+\n",
    "| id | salary |\n",
    "+----+--------+\n",
    "| 1  | 100    |\n",
    "| 2  | 200    |\n",
    "| 3  | 300    |\n",
    "+----+--------+\n",
    "<strong>Output:</strong> \n",
    "+---------------------+\n",
    "| SecondHighestSalary |\n",
    "+---------------------+\n",
    "| 200                 |\n",
    "+---------------------+\n",
    "</pre>\n",
    "\n",
    "<p><strong>Example 2:</strong></p>\n",
    "\n",
    "<pre><strong>Input:</strong> \n",
    "Employee table:\n",
    "+----+--------+\n",
    "| id | salary |\n",
    "+----+--------+\n",
    "| 1  | 100    |\n",
    "+----+--------+\n",
    "<strong>Output:</strong> \n",
    "+---------------------+\n",
    "| SecondHighestSalary |\n",
    "+---------------------+\n",
    "| null                |\n",
    "+---------------------+\n",
    "</pre>\n",
    "</div>"
   ]
  },
  {
   "cell_type": "code",
   "execution_count": 12,
   "id": "0fa558e1-9ac7-4780-b4ed-f6b8f7fd3d38",
   "metadata": {},
   "outputs": [],
   "source": [
    "import sqlite3\n",
    "\n",
    "cnx = sqlite3.connect(\"test.db\")\n",
    "cursor = cnx.cursor()"
   ]
  },
  {
   "cell_type": "raw",
   "id": "fce78312-6083-4e31-ad6d-ec9ccb6176b2",
   "metadata": {},
   "source": [
    "cursor.execute(\"CREATE TABLE IF NOT EXISTS Employee (Id int, Salary int)\") \n",
    "cursor.execute(\"INSERT INTO Employee (Id, Salary) VALUES (1, 100),(2,200), (3,300)\") \n",
    "cnx.commit()"
   ]
  },
  {
   "cell_type": "code",
   "execution_count": 2,
   "id": "debda5d3-9472-4dda-add2-202ab9b205c1",
   "metadata": {},
   "outputs": [
    {
     "name": "stdout",
     "output_type": "stream",
     "text": [
      "(200,)\n"
     ]
    }
   ],
   "source": [
    "query=\"SELECT Salary as SecondHighestSalary FROM Employee ORDER BY Salary DESC LIMIT 1 OFFSET 1\"\n",
    "\n",
    "cursor.execute(query)\n",
    "for row in cursor:\n",
    "    print(row)"
   ]
  },
  {
   "cell_type": "code",
   "execution_count": 3,
   "id": "5b26e33b-c639-456f-8a59-cf8f22407b18",
   "metadata": {},
   "outputs": [],
   "source": [
    "# cursor.execute(\"DROP TABLE Employee\")"
   ]
  },
  {
   "cell_type": "markdown",
   "id": "7a780617-63c1-4ae7-a10b-2902d0607a26",
   "metadata": {},
   "source": [
    "# 178. Rank Scores\n",
    "\n",
    "<div><p>Table: <code>Scores</code></p>\n",
    "\n",
    "<pre>+-------------+---------+\n",
    "| Column Name | Type    |\n",
    "+-------------+---------+\n",
    "| id          | int     |\n",
    "| score       | decimal |\n",
    "+-------------+---------+\n",
    "id is the primary key for this table.\n",
    "Each row of this table contains the score of a game. Score is a floating point value with two decimal places.\n",
    "</pre>\n",
    "\n",
    "<p>&nbsp;</p>\n",
    "\n",
    "<p>Write an SQL query to rank the scores. The ranking should be calculated according to the following rules:</p>\n",
    "\n",
    "<ul>\n",
    "\t<li>The scores should be ranked from the highest to the lowest.</li>\n",
    "\t<li>If there is a tie between two scores, both should have the same ranking.</li>\n",
    "\t<li>After a tie, the next ranking number should be the next consecutive integer value. In other words, there should be no holes between ranks.</li>\n",
    "</ul>\n",
    "\n",
    "<p>Return the result table ordered by <code>score</code> in descending order.</p>\n",
    "\n",
    "<p>The query result format is in the following example.</p>\n",
    "\n",
    "<p>&nbsp;</p>\n",
    "<p><strong>Example 1:</strong></p>\n",
    "\n",
    "<pre><strong>Input:</strong> \n",
    "Scores table:\n",
    "+----+-------+\n",
    "| id | score |\n",
    "+----+-------+\n",
    "| 1  | 3.50  |\n",
    "| 2  | 3.65  |\n",
    "| 3  | 4.00  |\n",
    "| 4  | 3.85  |\n",
    "| 5  | 4.00  |\n",
    "| 6  | 3.65  |\n",
    "+----+-------+\n",
    "<strong>Output:</strong> \n",
    "+-------+------+\n",
    "| score | rank |\n",
    "+-------+------+\n",
    "| 4.00  | 1    |\n",
    "| 4.00  | 1    |\n",
    "| 3.85  | 2    |\n",
    "| 3.65  | 3    |\n",
    "| 3.65  | 3    |\n",
    "| 3.50  | 4    |\n",
    "+-------+------+\n",
    "</pre>\n",
    "</div>"
   ]
  },
  {
   "cell_type": "raw",
   "id": "ad296ccd-db28-44c8-aaad-b828003ffe75",
   "metadata": {},
   "source": [
    "cursor.execute(\"CREATE TABLE IF NOT EXISTS Scores (Id int, score real)\") \n",
    "cursor.execute(\"INSERT INTO Scores (Id, score) VALUES (1, 3.50),(2,3.65), (3,4.00), (4, 3.85), (5,4.00), (6,3.65)\") \n",
    "cnx.commit()"
   ]
  },
  {
   "cell_type": "code",
   "execution_count": 28,
   "id": "479d95a0-9100-41a2-8a11-2acd703cb491",
   "metadata": {},
   "outputs": [
    {
     "name": "stdout",
     "output_type": "stream",
     "text": [
      "(4.0, 1)\n",
      "(4.0, 1)\n",
      "(3.85, 2)\n",
      "(3.65, 3)\n",
      "(3.65, 3)\n",
      "(3.5, 4)\n"
     ]
    }
   ],
   "source": [
    "query=\"SELECT score, DENSE_RANK() OVER (ORDER BY score DESC) as 'RANK' FROM Scores\"\n",
    "\n",
    "cursor.execute(query)\n",
    "for row in cursor:\n",
    "    print(row)"
   ]
  },
  {
   "cell_type": "markdown",
   "id": "64fc820a-c06f-44f3-8b74-8b3431dddb62",
   "metadata": {},
   "source": [
    "# 180. Consecutive Numbers\n",
    "<div><p>Table: <code>Logs</code></p>\n",
    "\n",
    "<pre>+-------------+---------+\n",
    "| Column Name | Type    |\n",
    "+-------------+---------+\n",
    "| id          | int     |\n",
    "| num         | varchar |\n",
    "+-------------+---------+\n",
    "id is the primary key for this table.\n",
    "</pre>\n",
    "\n",
    "<p>&nbsp;</p>\n",
    "\n",
    "<p>Write an SQL query to find all numbers that appear at least three times consecutively.</p>\n",
    "\n",
    "<p>Return the result table in <strong>any order</strong>.</p>\n",
    "\n",
    "<p>The query result format is in the following example.</p>\n",
    "\n",
    "<p>&nbsp;</p>\n",
    "<p><strong>Example 1:</strong></p>\n",
    "\n",
    "<pre><strong>Input:</strong> \n",
    "Logs table:\n",
    "+----+-----+\n",
    "| id | num |\n",
    "+----+-----+\n",
    "| 1  | 1   |\n",
    "| 2  | 1   |\n",
    "| 3  | 1   |\n",
    "| 4  | 2   |\n",
    "| 5  | 1   |\n",
    "| 6  | 2   |\n",
    "| 7  | 2   |\n",
    "+----+-----+\n",
    "<strong>Output:</strong> \n",
    "+-----------------+\n",
    "| ConsecutiveNums |\n",
    "+-----------------+\n",
    "| 1               |\n",
    "+-----------------+\n",
    "<strong>Explanation:</strong> 1 is the only number that appears consecutively for at least three times.\n",
    "</pre>\n",
    "</div>"
   ]
  },
  {
   "cell_type": "raw",
   "id": "a686d4f9-98fb-415e-a3c3-d5581f823a09",
   "metadata": {},
   "source": [
    "cursor.execute(\"CREATE TABLE IF NOT EXISTS Logs (Id int, Num int)\") \n",
    "cursor.execute(\"INSERT INTO Logs (Id, Num) VALUES (1,1),(2,1), (3,1), (4,2), (5,1), (6,2),(7,2)\") \n",
    "cnx.commit()"
   ]
  },
  {
   "cell_type": "code",
   "execution_count": 4,
   "id": "4ab382ca-777b-49ae-94bf-3ab1e97e1e40",
   "metadata": {},
   "outputs": [
    {
     "name": "stdout",
     "output_type": "stream",
     "text": [
      "(1,)\n"
     ]
    }
   ],
   "source": [
    "query='''SELECT DISTINCT a.Num as ConsecutiveNums FROM Logs a \n",
    "JOIN Logs b ON a.id = b.id+1 \n",
    "JOIN Logs c ON a.id = c.id+2\n",
    "WHERE a.Num = b.Num and a.Num = c.Num'''\n",
    "\n",
    "cursor.execute(query)\n",
    "for row in cursor:\n",
    "    print(row)"
   ]
  },
  {
   "cell_type": "code",
   "execution_count": 22,
   "id": "aba9a234-ef0d-4064-bcaf-20e7065513ec",
   "metadata": {},
   "outputs": [
    {
     "name": "stdout",
     "output_type": "stream",
     "text": [
      "(1,)\n"
     ]
    }
   ],
   "source": [
    "query = '''\n",
    "SELECT Num ConsecutiveNums FROM\n",
    "(SELECT *\n",
    "        , LEAD(Num, 1) OVER (ORDER BY id) nxt\n",
    "        , LEAD(Num, 2) OVER (ORDER BY id) nxt2\n",
    " FROM Logs) cte\n",
    "WHERE cte.Num = cte.nxt = cte.nxt2\n",
    "'''\n",
    "cursor.execute(query)\n",
    "for row in cursor:\n",
    "    print(row)"
   ]
  },
  {
   "cell_type": "markdown",
   "id": "aa60dfd9-2ff7-4d6f-810c-43e9e3f2aa94",
   "metadata": {},
   "source": [
    "# 181. Employees Earning More Than Their Managers\n",
    "<div><p>Table: <code>Employee</code></p>\n",
    "\n",
    "<pre>+-------------+---------+\n",
    "| Column Name | Type    |\n",
    "+-------------+---------+\n",
    "| id          | int     |\n",
    "| name        | varchar |\n",
    "| salary      | int     |\n",
    "| managerId   | int     |\n",
    "+-------------+---------+\n",
    "id is the primary key column for this table.\n",
    "Each row of this table indicates the ID of an employee, their name, salary, and the ID of their manager.\n",
    "</pre>\n",
    "\n",
    "<p>&nbsp;</p>\n",
    "\n",
    "<p>Write an SQL query to find the employees who earn more than their managers.</p>\n",
    "\n",
    "<p>Return the result table in <strong>any order</strong>.</p>\n",
    "\n",
    "<p>The query result format is in the following example.</p>\n",
    "\n",
    "<p>&nbsp;</p>\n",
    "<p><strong>Example 1:</strong></p>\n",
    "\n",
    "<pre><strong>Input:</strong> \n",
    "Employee table:\n",
    "+----+-------+--------+-----------+\n",
    "| id | name  | salary | managerId |\n",
    "+----+-------+--------+-----------+\n",
    "| 1  | Joe   | 70000  | 3         |\n",
    "| 2  | Henry | 80000  | 4         |\n",
    "| 3  | Sam   | 60000  | Null      |\n",
    "| 4  | Max   | 90000  | Null      |\n",
    "+----+-------+--------+-----------+\n",
    "<strong>Output:</strong> \n",
    "+----------+\n",
    "| Employee |\n",
    "+----------+\n",
    "| Joe      |\n",
    "+----------+\n",
    "<strong>Explanation:</strong> Joe is the only employee who earns more than his manager.\n",
    "</pre>\n",
    "</div>"
   ]
  },
  {
   "cell_type": "raw",
   "id": "66ba20a7-55b8-453f-a202-6d87b0091bf3",
   "metadata": {},
   "source": [
    "cursor.execute(\"CREATE TABLE IF NOT EXISTS Employee2 (Id int, Name text, Salary int, ManagerId int)\") \n",
    "cursor.execute(\"INSERT INTO Employee2 (Id, Name, Salary, ManagerId) VALUES (1,'Joe',70000,3),(2,'Henry',80000,4), (3,'Sam',60000,NULL), (4,'Max',90000,NULL)\") \n",
    "cnx.commit()"
   ]
  },
  {
   "cell_type": "code",
   "execution_count": 5,
   "id": "85a23624-c613-45d0-8666-f72808b7c01a",
   "metadata": {},
   "outputs": [
    {
     "name": "stdout",
     "output_type": "stream",
     "text": [
      "('Joe',)\n"
     ]
    }
   ],
   "source": [
    "query = '''SELECT a.Name FROM Employee2 a \n",
    "JOIN Employee2 b ON a.ManagerId = b.Id\n",
    "WHERE a.Salary > b.Salary'''\n",
    "\n",
    "cursor.execute(query)\n",
    "for row in cursor:\n",
    "    print(row)"
   ]
  },
  {
   "cell_type": "markdown",
   "id": "6a859325-3e3d-4548-a165-dcf2062c1f60",
   "metadata": {},
   "source": [
    "# 182. Duplicate Emails\n",
    "<div><p>Table: <code>Person</code></p>\n",
    "\n",
    "<pre>+-------------+---------+\n",
    "| Column Name | Type    |\n",
    "+-------------+---------+\n",
    "| id          | int     |\n",
    "| email       | varchar |\n",
    "+-------------+---------+\n",
    "id is the primary key column for this table.\n",
    "Each row of this table contains an email. The emails will not contain uppercase letters.\n",
    "</pre>\n",
    "\n",
    "<p>&nbsp;</p>\n",
    "\n",
    "<p>Write an SQL query to report all the duplicate emails.</p>\n",
    "\n",
    "<p>Return the result table in <strong>any order</strong>.</p>\n",
    "\n",
    "<p>The query result format is in the following example.</p>\n",
    "\n",
    "<p>&nbsp;</p>\n",
    "<p><strong>Example 1:</strong></p>\n",
    "\n",
    "<pre><strong>Input:</strong> \n",
    "Person table:\n",
    "+----+---------+\n",
    "| id | email   |\n",
    "+----+---------+\n",
    "| 1  | a@b.com |\n",
    "| 2  | c@d.com |\n",
    "| 3  | a@b.com |\n",
    "+----+---------+\n",
    "<strong>Output:</strong> \n",
    "+---------+\n",
    "| Email   |\n",
    "+---------+\n",
    "| a@b.com |\n",
    "+---------+\n",
    "<strong>Explanation:</strong> a@b.com is repeated two times.\n",
    "</pre>\n",
    "</div>"
   ]
  },
  {
   "cell_type": "raw",
   "id": "80578d2d-8d86-453c-b9d5-670764a891f3",
   "metadata": {},
   "source": [
    "cursor.execute(\"CREATE TABLE IF NOT EXISTS Person (Id int, Email text)\") \n",
    "cursor.execute(\"INSERT INTO Person (Id, Email) VALUES (1, 'a@b.com'),(2,'c@d.com'), (3,'a@b.com')\") \n",
    "cnx.commit()"
   ]
  },
  {
   "cell_type": "code",
   "execution_count": 6,
   "id": "ad6ce57b-a505-4cab-83e8-7962fc16a46d",
   "metadata": {},
   "outputs": [
    {
     "name": "stdout",
     "output_type": "stream",
     "text": [
      "('a@b.com',)\n"
     ]
    }
   ],
   "source": [
    "query = \"SELECT Email FROM (SELECT * , count(Id) as 'count' FROM Person GROUP BY Email) WHERE count > 1\"\n",
    "cursor.execute(query)\n",
    "for row in cursor:\n",
    "    print(row)"
   ]
  },
  {
   "cell_type": "markdown",
   "id": "6a22ef45-20de-4ed5-bba1-1266ffc1eb85",
   "metadata": {},
   "source": [
    "# 183. Customers Who Never Order\n",
    "<div><p>Table: <code>Customers</code></p>\n",
    "\n",
    "<pre>+-------------+---------+\n",
    "| Column Name | Type    |\n",
    "+-------------+---------+\n",
    "| id          | int     |\n",
    "| name        | varchar |\n",
    "+-------------+---------+\n",
    "id is the primary key column for this table.\n",
    "Each row of this table indicates the ID and name of a customer.\n",
    "</pre>\n",
    "\n",
    "<p>&nbsp;</p>\n",
    "\n",
    "<p>Table: <code>Orders</code></p>\n",
    "\n",
    "<pre>+-------------+------+\n",
    "| Column Name | Type |\n",
    "+-------------+------+\n",
    "| id          | int  |\n",
    "| customerId  | int  |\n",
    "+-------------+------+\n",
    "id is the primary key column for this table.\n",
    "customerId is a foreign key of the ID from the Customers table.\n",
    "Each row of this table indicates the ID of an order and the ID of the customer who ordered it.\n",
    "</pre>\n",
    "\n",
    "<p>&nbsp;</p>\n",
    "\n",
    "<p>Write an SQL query to report all customers who never order anything.</p>\n",
    "\n",
    "<p>Return the result table in <strong>any order</strong>.</p>\n",
    "\n",
    "<p>The query result format is in the following example.</p>\n",
    "\n",
    "<p>&nbsp;</p>\n",
    "<p><strong>Example 1:</strong></p>\n",
    "\n",
    "<pre><strong>Input:</strong> \n",
    "Customers table:\n",
    "+----+-------+\n",
    "| id | name  |\n",
    "+----+-------+\n",
    "| 1  | Joe   |\n",
    "| 2  | Henry |\n",
    "| 3  | Sam   |\n",
    "| 4  | Max   |\n",
    "+----+-------+\n",
    "Orders table:\n",
    "+----+------------+\n",
    "| id | customerId |\n",
    "+----+------------+\n",
    "| 1  | 3          |\n",
    "| 2  | 1          |\n",
    "+----+------------+\n",
    "<strong>Output:</strong> \n",
    "+-----------+\n",
    "| Customers |\n",
    "+-----------+\n",
    "| Henry     |\n",
    "| Max       |\n",
    "+-----------+\n",
    "</pre>\n",
    "</div>"
   ]
  },
  {
   "cell_type": "raw",
   "id": "2d0ca684-b347-40dd-842d-0697e6a40af0",
   "metadata": {},
   "source": [
    "cursor.execute(\"CREATE TABLE IF NOT EXISTS Customers (Id int, Name text)\") \n",
    "cursor.execute(\"CREATE TABLE IF NOT EXISTS Orders (Id int, CustomerId int)\") \n",
    "\n",
    "cursor.execute(\"INSERT INTO Customers (Id, Name) VALUES (1, 'Joe'),(2,'Henry'), (3,'Sam'), (4, 'Max')\")\n",
    "cursor.execute(\"INSERT INTO Orders (Id, CustomerId) VALUES (1, 3),(2,1)\")\n",
    "cnx.commit()"
   ]
  },
  {
   "cell_type": "code",
   "execution_count": 7,
   "id": "4096b479-faa0-45a9-8d65-649dd8264ddf",
   "metadata": {},
   "outputs": [
    {
     "name": "stdout",
     "output_type": "stream",
     "text": [
      "('Henry',)\n",
      "('Max',)\n"
     ]
    }
   ],
   "source": [
    "query = '''SELECT NAME FROM Customers c \n",
    "LEFT JOIN Orders o ON c.id = o.CustomerId\n",
    "WHERE CustomerId IS NULL'''\n",
    "cursor.execute(query)\n",
    "for row in cursor:\n",
    "    print(row)"
   ]
  },
  {
   "cell_type": "markdown",
   "id": "ece231a8-4e78-4c0d-8b20-e123673a8118",
   "metadata": {},
   "source": [
    "# 184. Department Highest Salary\n",
    "<div><p>Table: <code>Employee</code></p>\n",
    "\n",
    "<pre>+--------------+---------+\n",
    "| Column Name  | Type    |\n",
    "+--------------+---------+\n",
    "| id           | int     |\n",
    "| name         | varchar |\n",
    "| salary       | int     |\n",
    "| departmentId | int     |\n",
    "+--------------+---------+\n",
    "id is the primary key column for this table.\n",
    "departmentId is a foreign key of the ID from the <code>Department </code>table.\n",
    "Each row of this table indicates the ID, name, and salary of an employee. It also contains the ID of their department.\n",
    "</pre>\n",
    "\n",
    "<p>&nbsp;</p>\n",
    "\n",
    "<p>Table: <code>Department</code></p>\n",
    "\n",
    "<pre>+-------------+---------+\n",
    "| Column Name | Type    |\n",
    "+-------------+---------+\n",
    "| id          | int     |\n",
    "| name        | varchar |\n",
    "+-------------+---------+\n",
    "id is the primary key column for this table.\n",
    "Each row of this table indicates the ID of a department and its name.\n",
    "</pre>\n",
    "\n",
    "<p>&nbsp;</p>\n",
    "\n",
    "<p>Write an SQL query to find employees who have the highest salary in each of the departments.</p>\n",
    "\n",
    "<p>Return the result table in <strong>any order</strong>.</p>\n",
    "\n",
    "<p>The query result format is in the following example.</p>\n",
    "\n",
    "<p>&nbsp;</p>\n",
    "<p><strong>Example 1:</strong></p>\n",
    "\n",
    "<pre><strong>Input:</strong> \n",
    "Employee table:\n",
    "+----+-------+--------+--------------+\n",
    "| id | name  | salary | departmentId |\n",
    "+----+-------+--------+--------------+\n",
    "| 1  | Joe   | 70000  | 1            |\n",
    "| 2  | Jim   | 90000  | 1            |\n",
    "| 3  | Henry | 80000  | 2            |\n",
    "| 4  | Sam   | 60000  | 2            |\n",
    "| 5  | Max   | 90000  | 1            |\n",
    "+----+-------+--------+--------------+\n",
    "Department table:\n",
    "+----+-------+\n",
    "| id | name  |\n",
    "+----+-------+\n",
    "| 1  | IT    |\n",
    "| 2  | Sales |\n",
    "+----+-------+\n",
    "<strong>Output:</strong> \n",
    "+------------+----------+--------+\n",
    "| Department | Employee | Salary |\n",
    "+------------+----------+--------+\n",
    "| IT         | Jim      | 90000  |\n",
    "| Sales      | Henry    | 80000  |\n",
    "| IT         | Max      | 90000  |\n",
    "+------------+----------+--------+\n",
    "<strong>Explanation:</strong> Max and Jim both have the highest salary in the IT department and Henry has the highest salary in the Sales department.\n",
    "</pre>\n",
    "</div>"
   ]
  },
  {
   "cell_type": "raw",
   "id": "d3bbf921-f07e-4a60-a957-ebd855ad0ba7",
   "metadata": {},
   "source": [
    "cursor.execute(\"CREATE TABLE IF NOT EXISTS Employee3 (id int, name text, salary int, departmentId int)\") \n",
    "cursor.execute(\"CREATE TABLE IF NOT EXISTS Department (id int, name text)\") \n",
    "\n",
    "cursor.execute(\"INSERT INTO Employee3 (id, name, salary, departmentId) VALUES (1, 'Joe', 70000, 1),(2,'Jim',90000,1), (3,'Henry',80000,2), (4, 'Sam',60000,2), (5,'Max', 90000, 1)\")\n",
    "cursor.execute(\"INSERT INTO Department (id, name) VALUES (1, 'IT'),(2,'Sales')\")\n",
    "cnx.commit()"
   ]
  },
  {
   "cell_type": "code",
   "execution_count": 15,
   "id": "4126e38a-6aa8-4d87-9de3-cd3e23968969",
   "metadata": {},
   "outputs": [
    {
     "name": "stdout",
     "output_type": "stream",
     "text": [
      "('IT', 'Jim', 90000)\n",
      "('Sales', 'Henry', 80000)\n",
      "('IT', 'Max', 90000)\n"
     ]
    }
   ],
   "source": [
    "query = '''\n",
    "SELECT d.Name Department, e.Name Employee, e.Salary FROM Employee3 e \n",
    "JOIN Department d ON e.DepartmentId = d.Id\n",
    "WHERE (DepartmentId, Salary) IN \n",
    "(SELECT DepartmentId, max(Salary) FROM Employee3 \n",
    "GROUP BY DepartmentId)\n",
    "'''\n",
    "cursor.execute(query)\n",
    "for row in cursor:\n",
    "    print(row)"
   ]
  },
  {
   "cell_type": "markdown",
   "id": "9612bcb3-bf79-4ace-b4ec-93d0a09d7c04",
   "metadata": {},
   "source": [
    "# 185. Department Top Three Salaries\n",
    "<div><p>Table: <code>Employee</code></p>\n",
    "\n",
    "<pre>+--------------+---------+\n",
    "| Column Name  | Type    |\n",
    "+--------------+---------+\n",
    "| id           | int     |\n",
    "| name         | varchar |\n",
    "| salary       | int     |\n",
    "| departmentId | int     |\n",
    "+--------------+---------+\n",
    "id is the primary key column for this table.\n",
    "departmentId is a foreign key of the ID from the <code>Department </code>table.\n",
    "Each row of this table indicates the ID, name, and salary of an employee. It also contains the ID of their department.\n",
    "</pre>\n",
    "\n",
    "<p>&nbsp;</p>\n",
    "\n",
    "<p>Table: <code>Department</code></p>\n",
    "\n",
    "<pre>+-------------+---------+\n",
    "| Column Name | Type    |\n",
    "+-------------+---------+\n",
    "| id          | int     |\n",
    "| name        | varchar |\n",
    "+-------------+---------+\n",
    "id is the primary key column for this table.\n",
    "Each row of this table indicates the ID of a department and its name.\n",
    "</pre>\n",
    "\n",
    "<p>&nbsp;</p>\n",
    "\n",
    "<p>A company's executives are interested in seeing who earns the most money in each of the company's departments. A <strong>high earner</strong> in a department is an employee who has a salary in the <strong>top three unique</strong> salaries for that department.</p>\n",
    "\n",
    "<p>Write an SQL query to find the employees who are <strong>high earners</strong> in each of the departments.</p>\n",
    "\n",
    "<p>Return the result table <strong>in any order</strong>.</p>\n",
    "\n",
    "<p>The query result format is in the following example.</p>\n",
    "\n",
    "<p>&nbsp;</p>\n",
    "<p><strong>Example 1:</strong></p>\n",
    "\n",
    "<pre><strong>Input:</strong> \n",
    "Employee table:\n",
    "+----+-------+--------+--------------+\n",
    "| id | name  | salary | departmentId |\n",
    "+----+-------+--------+--------------+\n",
    "| 1  | Joe   | 85000  | 1            |\n",
    "| 2  | Henry | 80000  | 2            |\n",
    "| 3  | Sam   | 60000  | 2            |\n",
    "| 4  | Max   | 90000  | 1            |\n",
    "| 5  | Janet | 69000  | 1            |\n",
    "| 6  | Randy | 85000  | 1            |\n",
    "| 7  | Will  | 70000  | 1            |\n",
    "+----+-------+--------+--------------+\n",
    "Department table:\n",
    "+----+-------+\n",
    "| id | name  |\n",
    "+----+-------+\n",
    "| 1  | IT    |\n",
    "| 2  | Sales |\n",
    "+----+-------+\n",
    "<strong>Output:</strong> \n",
    "+------------+----------+--------+\n",
    "| Department | Employee | Salary |\n",
    "+------------+----------+--------+\n",
    "| IT         | Max      | 90000  |\n",
    "| IT         | Joe      | 85000  |\n",
    "| IT         | Randy    | 85000  |\n",
    "| IT         | Will     | 70000  |\n",
    "| Sales      | Henry    | 80000  |\n",
    "| Sales      | Sam      | 60000  |\n",
    "+------------+----------+--------+\n",
    "<strong>Explanation:</strong> \n",
    "In the IT department:\n",
    "- Max earns the highest unique salary\n",
    "- Both Randy and Joe earn the second-highest unique salary\n",
    "- Will earns the third-highest unique salary\n",
    "\n",
    "In the Sales department:\n",
    "- Henry earns the highest salary\n",
    "- Sam earns the second-highest salary\n",
    "- There is no third-highest salary as there are only two employees\n",
    "</pre>\n",
    "</div>"
   ]
  },
  {
   "cell_type": "raw",
   "id": "83b4d6f4-4a52-4745-b7bb-63dd22308b62",
   "metadata": {},
   "source": [
    "cursor.execute(\"CREATE TABLE IF NOT EXISTS Employee4 (Id int, Name text, Salary int, DepartmentId int)\") \n",
    "cursor.execute(\"INSERT INTO Employee4 (Id, Name, Salary, DepartmentId) VALUES (1, 'Joe', 85000, 1), (2,'Henry',80000,2), (3, 'Sam',60000,2), (4,'Max', 90000, 1), (5,'Janet',69000, 1), (6,'Randy',85000,1),(7,'Will',70000,1)\")\n",
    "cnx.commit()"
   ]
  },
  {
   "cell_type": "code",
   "execution_count": 20,
   "id": "e3f45365-8ac3-4725-a72a-a2a8992083ba",
   "metadata": {},
   "outputs": [
    {
     "name": "stdout",
     "output_type": "stream",
     "text": [
      "('IT', 'Max', 90000)\n",
      "('IT', 'Joe', 85000)\n",
      "('IT', 'Randy', 85000)\n",
      "('IT', 'Will', 70000)\n",
      "('Sales', 'Henry', 80000)\n",
      "('Sales', 'Sam', 60000)\n"
     ]
    }
   ],
   "source": [
    "query = '''\n",
    "SELECT d.name \"Department\", e.Name, Salary FROM\n",
    "(SELECT *, Dense_RANK() over \n",
    "(partition by DepartmentId order by Salary DESC) rank FROM Employee4) e\n",
    "JOIN Department d ON e.departmentId=d.id\n",
    "WHERE rank <=3 ORDER BY Department, Salary DESC\n",
    "'''\n",
    "cursor.execute(query)\n",
    "for row in cursor:\n",
    "    print(row)"
   ]
  },
  {
   "cell_type": "markdown",
   "id": "c057d1aa-c847-4af2-a64c-f5cc6be56702",
   "metadata": {},
   "source": [
    "# 197. Rising Temperature\n",
    "<div><p>Table: <code>Weather</code></p>\n",
    "\n",
    "<pre>+---------------+---------+\n",
    "| Column Name   | Type    |\n",
    "+---------------+---------+\n",
    "| id            | int     |\n",
    "| recordDate    | date    |\n",
    "| temperature   | int     |\n",
    "+---------------+---------+\n",
    "id is the primary key for this table.\n",
    "This table contains information about the temperature on a certain day.\n",
    "</pre>\n",
    "\n",
    "<p>&nbsp;</p>\n",
    "\n",
    "<p>Write an SQL query to find all dates' <code>Id</code> with higher temperatures compared to its previous dates (yesterday).</p>\n",
    "\n",
    "<p>Return the result table in <strong>any order</strong>.</p>\n",
    "\n",
    "<p>The query result format is in the following example.</p>\n",
    "\n",
    "<p>&nbsp;</p>\n",
    "<p><strong>Example 1:</strong></p>\n",
    "\n",
    "<pre><strong>Input:</strong> \n",
    "Weather table:\n",
    "+----+------------+-------------+\n",
    "| id | recordDate | temperature |\n",
    "+----+------------+-------------+\n",
    "| 1  | 2015-01-01 | 10          |\n",
    "| 2  | 2015-01-02 | 25          |\n",
    "| 3  | 2015-01-03 | 20          |\n",
    "| 4  | 2015-01-04 | 30          |\n",
    "+----+------------+-------------+\n",
    "<strong>Output:</strong> \n",
    "+----+\n",
    "| id |\n",
    "+----+\n",
    "| 2  |\n",
    "| 4  |\n",
    "+----+\n",
    "<strong>Explanation:</strong> \n",
    "In 2015-01-02, the temperature was higher than the previous day (10 -&gt; 25).\n",
    "In 2015-01-04, the temperature was higher than the previous day (20 -&gt; 30).\n",
    "</pre>\n",
    "</div>"
   ]
  },
  {
   "cell_type": "raw",
   "id": "9f719ede-5a25-426f-9894-f11dbce56726",
   "metadata": {},
   "source": [
    "cursor.execute(\"CREATE TABLE IF NOT EXISTS Weather (Id int, recordDate text, Temperature int)\") \n",
    "cursor.execute(\"INSERT INTO Weather (Id, recordDate, Temperature) VALUES (1, '2015-01-01', 10), (2,'2015-01-02',25), (3, '2015-01-03',20), (4,'2015-01-04', 30)\")\n",
    "cnx.commit()"
   ]
  },
  {
   "cell_type": "code",
   "execution_count": 21,
   "id": "7b5bfd7f-9d43-4618-b942-4abcb0e41cb1",
   "metadata": {},
   "outputs": [
    {
     "name": "stdout",
     "output_type": "stream",
     "text": [
      "(2,)\n",
      "(4,)\n"
     ]
    }
   ],
   "source": [
    "query = '''\n",
    "SELECT w1.Id FROM Weather w1 \n",
    "JOIN Weather w2 ON JULIANDAY(w1.recordDate) = JULIANDAY(w2.recordDate)+1\n",
    "WHERE w1.Temperature > w2.Temperature\n",
    "'''\n",
    "cursor.execute(query)\n",
    "for row in cursor:\n",
    "    print(row) "
   ]
  },
  {
   "cell_type": "code",
   "execution_count": 10,
   "id": "219c40da-c6b3-4ec4-902d-e69d3633e970",
   "metadata": {},
   "outputs": [],
   "source": [
    "cnx.close()"
   ]
  },
  {
   "cell_type": "code",
   "execution_count": null,
   "id": "e33eaf8a-82c6-4071-8ce1-70b4b284ca3c",
   "metadata": {},
   "outputs": [],
   "source": []
  }
 ],
 "metadata": {
  "kernelspec": {
   "display_name": "Python 3.9.5 64-bit (conda)",
   "language": "python",
   "name": "python395jvsc74a57bd0b5b7666e1b276dada7dc7ace73ab17b4bf5b1fe8bd50682a04e6d26c02867d18"
  },
  "language_info": {
   "codemirror_mode": {
    "name": "ipython",
    "version": 3
   },
   "file_extension": ".py",
   "mimetype": "text/x-python",
   "name": "python",
   "nbconvert_exporter": "python",
   "pygments_lexer": "ipython3",
   "version": "3.9.5"
  }
 },
 "nbformat": 4,
 "nbformat_minor": 5
}
