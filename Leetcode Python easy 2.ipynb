{
 "cells": [
  {
   "cell_type": "markdown",
   "id": "46d1809a-c499-451f-92ad-bca4a7d94f72",
   "metadata": {},
   "source": [
    "# 35. Search Insert Position (array, binary search)\n",
    "<div class=\"content__u3I1 question-content__JfgR\"><div><p>Given a sorted array of distinct integers and a target value, return the index if the target is found. If not, return the index where it would be if it were inserted in order.</p>\n",
    "\n",
    "<p>You must&nbsp;write an algorithm with&nbsp;<code>O(log n)</code> runtime complexity.</p>\n",
    "\n",
    "<p>&nbsp;</p>\n",
    "<p><strong>Example 1:</strong></p>\n",
    "\n",
    "<pre><strong>Input:</strong> nums = [1,3,5,6], target = 5\n",
    "<strong>Output:</strong> 2\n",
    "</pre>\n",
    "\n",
    "<p><strong>Example 2:</strong></p>\n",
    "\n",
    "<pre><strong>Input:</strong> nums = [1,3,5,6], target = 2\n",
    "<strong>Output:</strong> 1\n",
    "</pre>\n",
    "\n",
    "<p><strong>Example 3:</strong></p>\n",
    "\n",
    "<pre><strong>Input:</strong> nums = [1,3,5,6], target = 7\n",
    "<strong>Output:</strong> 4\n",
    "</pre>\n",
    "\n",
    "<p>&nbsp;</p>\n",
    "<p><strong>Constraints:</strong></p>\n",
    "\n",
    "<ul>\n",
    "\t<li><code>1 &lt;= nums.length &lt;= 10<sup>4</sup></code></li>\n",
    "\t<li><code>-10<sup>4</sup> &lt;= nums[i] &lt;= 10<sup>4</sup></code></li>\n",
    "\t<li><code>nums</code> contains <strong>distinct</strong> values sorted in <strong>ascending</strong> order.</li>\n",
    "\t<li><code>-10<sup>4</sup> &lt;= target &lt;= 10<sup>4</sup></code></li>\n",
    "</ul>\n",
    "</div></div>"
   ]
  },
  {
   "cell_type": "code",
   "execution_count": 12,
   "id": "e7f05feb-26ba-4036-a81b-b83abae98dfc",
   "metadata": {},
   "outputs": [],
   "source": [
    "class Solution:\n",
    "    def searchInsert(self, nums: list[int],target:int)->int:\n",
    "        l, r = 0, len(nums)-1\n",
    "        while l<=r:\n",
    "            mid = (l+r)//2\n",
    "            if (nums[mid] == target):\n",
    "                return mid\n",
    "            if (nums[mid] < target):\n",
    "                l = mid + 1\n",
    "            else:\n",
    "                r = mid - 1\n",
    "        return l\n",
    "    "
   ]
  },
  {
   "cell_type": "code",
   "execution_count": 13,
   "id": "e14597e5-cb21-4e55-9a37-9f053501d351",
   "metadata": {},
   "outputs": [
    {
     "data": {
      "text/plain": [
       "2"
      ]
     },
     "execution_count": 13,
     "metadata": {},
     "output_type": "execute_result"
    }
   ],
   "source": [
    "s=Solution()\n",
    "s.searchInsert([1,3,5,6], 5)"
   ]
  },
  {
   "cell_type": "code",
   "execution_count": 14,
   "id": "8f6da4de-0031-4f00-bfa3-94657479ddf9",
   "metadata": {},
   "outputs": [
    {
     "data": {
      "text/plain": [
       "1"
      ]
     },
     "execution_count": 14,
     "metadata": {},
     "output_type": "execute_result"
    }
   ],
   "source": [
    "s.searchInsert([1,3,5,6], 2)"
   ]
  },
  {
   "cell_type": "markdown",
   "id": "9435c304-9833-42d9-a300-7242d73f7ece",
   "metadata": {},
   "source": [
    "# 1046. Last Stone Weight (array)\n",
    "<div class=\"content__u3I1 question-content__JfgR\"><div><p>You are given an array of integers <code>stones</code> where <code>stones[i]</code> is the weight of the <code>i<sup>th</sup></code> stone.</p>\n",
    "\n",
    "<p>We are playing a game with the stones. On each turn, we choose the <strong>heaviest two stones</strong> and smash them together. Suppose the heaviest two stones have weights <code>x</code> and <code>y</code> with <code>x &lt;= y</code>. The result of this smash is:</p>\n",
    "\n",
    "<ul>\n",
    "\t<li>If <code>x == y</code>, both stones are destroyed, and</li>\n",
    "\t<li>If <code>x != y</code>, the stone of weight <code>x</code> is destroyed, and the stone of weight <code>y</code> has new weight <code>y - x</code>.</li>\n",
    "</ul>\n",
    "\n",
    "<p>At the end of the game, there is <strong>at most one</strong> stone left.</p>\n",
    "\n",
    "<p>Return <em>the smallest possible weight of the left stone</em>. If there are no stones left, return <code>0</code>.</p>\n",
    "\n",
    "<p>&nbsp;</p>\n",
    "<p><strong>Example 1:</strong></p>\n",
    "\n",
    "<pre><strong>Input:</strong> stones = [2,7,4,1,8,1]\n",
    "<strong>Output:</strong> 1\n",
    "<strong>Explanation:</strong> \n",
    "We combine 7 and 8 to get 1 so the array converts to [2,4,1,1,1] then,\n",
    "we combine 2 and 4 to get 2 so the array converts to [2,1,1,1] then,\n",
    "we combine 2 and 1 to get 1 so the array converts to [1,1,1] then,\n",
    "we combine 1 and 1 to get 0 so the array converts to [1] then that's the value of the last stone.\n",
    "</pre>\n",
    "\n",
    "<p><strong>Example 2:</strong></p>\n",
    "\n",
    "<pre><strong>Input:</strong> stones = [1]\n",
    "<strong>Output:</strong> 1\n",
    "</pre>\n",
    "\n",
    "<p>&nbsp;</p>\n",
    "<p><strong>Constraints:</strong></p>\n",
    "\n",
    "<ul>\n",
    "\t<li><code>1 &lt;= stones.length &lt;= 30</code></li>\n",
    "\t<li><code>1 &lt;= stones[i] &lt;= 1000</code></li>\n",
    "</ul>\n",
    "</div></div>"
   ]
  },
  {
   "cell_type": "code",
   "execution_count": 20,
   "id": "cde52fa8-0eb1-443b-b63c-fcdc277597c8",
   "metadata": {},
   "outputs": [],
   "source": [
    "class Solution(object):\n",
    "    def lastStoneWeight(self, stones:list[int])->int:\n",
    "        if len(stones) == 0:\n",
    "            return 0\n",
    "        if len(stones) == 1:\n",
    "            return stones[-1]\n",
    "        \n",
    "        while len(stones)>1:\n",
    "            stones.sort()\n",
    "            s1,s2=stones[-1],stones[-2]\n",
    "            if s1==s2:\n",
    "                stones.pop(-1)\n",
    "                stones.pop(-1)\n",
    "            else:\n",
    "                new = abs(s1-s2)\n",
    "                stones.pop(-1)\n",
    "                stones.pop(-1)\n",
    "                stones.append(new)\n",
    "            \n",
    "            if len(stones)==1:\n",
    "                return stones[-1]\n",
    "        \n",
    "        \n",
    "        return 0\n"
   ]
  },
  {
   "cell_type": "code",
   "execution_count": 21,
   "id": "83d1e032-8515-4959-bffb-10f4e04f7f7f",
   "metadata": {},
   "outputs": [
    {
     "data": {
      "text/plain": [
       "1"
      ]
     },
     "execution_count": 21,
     "metadata": {},
     "output_type": "execute_result"
    }
   ],
   "source": [
    "s = Solution()\n",
    "s.lastStoneWeight([2,7,4,1,6,1])"
   ]
  },
  {
   "cell_type": "code",
   "execution_count": 22,
   "id": "b41fa5e2-52d2-45df-85fb-8798c980bf3e",
   "metadata": {},
   "outputs": [
    {
     "data": {
      "text/plain": [
       "0"
      ]
     },
     "execution_count": 22,
     "metadata": {},
     "output_type": "execute_result"
    }
   ],
   "source": [
    "s.lastStoneWeight([7,7])"
   ]
  },
  {
   "cell_type": "markdown",
   "id": "b95ddbea-c188-4ffa-b531-a340160bc1bd",
   "metadata": {},
   "source": [
    "# 263. Ugly Number (math)\n",
    "<div><p>An <strong>ugly number</strong> is a positive integer whose prime factors are limited to <code>2</code>, <code>3</code>, and <code>5</code>.</p>\n",
    "\n",
    "<p>Given an integer <code>n</code>, return <code>true</code> <em>if</em> <code>n</code> <em>is an <strong>ugly number</strong></em>.</p>\n",
    "\n",
    "<p>&nbsp;</p>\n",
    "<p><strong>Example 1:</strong></p>\n",
    "\n",
    "<pre><strong>Input:</strong> n = 6\n",
    "<strong>Output:</strong> true\n",
    "<strong>Explanation:</strong> 6 = 2 × 3\n",
    "</pre>\n",
    "\n",
    "<p><strong>Example 2:</strong></p>\n",
    "\n",
    "<pre><strong>Input:</strong> n = 1\n",
    "<strong>Output:</strong> true\n",
    "<strong>Explanation:</strong> 1 has no prime factors, therefore all of its prime factors are limited to 2, 3, and 5.\n",
    "</pre>\n",
    "\n",
    "<p><strong>Example 3:</strong></p>\n",
    "\n",
    "<pre><strong>Input:</strong> n = 14\n",
    "<strong>Output:</strong> false\n",
    "<strong>Explanation:</strong> 14 is not ugly since it includes the prime factor 7.\n",
    "</pre>\n",
    "\n",
    "<p>&nbsp;</p>\n",
    "<p><strong>Constraints:</strong></p>\n",
    "\n",
    "<ul>\n",
    "\t<li><code>-2<sup>31</sup> &lt;= n &lt;= 2<sup>31</sup> - 1</code></li>\n",
    "</ul>\n",
    "</div>"
   ]
  },
  {
   "cell_type": "markdown",
   "id": "025720f5-b98d-409e-9979-df851d7da224",
   "metadata": {},
   "source": [
    "Let n = 20\n",
    "\n",
    "* 20 % 2 = 0 (divisible by 2), so n = 20/2 = 10\n",
    "* 10 % 2 = 0 (divisible by 2), so n = 10/2 = 5\n",
    "* 5 % 2 = 3 (not divisible by 2)\n",
    "* 5 % 3 = 2 (not divisible by 3)\n",
    "* 5 % 5 = 0 (divisible by 5), so n = 5/5 = 1\n"
   ]
  },
  {
   "cell_type": "code",
   "execution_count": 9,
   "id": "348764ea-575d-4d3e-ad49-de27712381d0",
   "metadata": {},
   "outputs": [],
   "source": [
    "class Solution: \n",
    "    def isUgly(self, n: int) -> bool:\n",
    "        if n<=0:\n",
    "            return False\n",
    "        for p in [2,3,5]:\n",
    "            # check if p is divisible by 2 or 3 or 5\n",
    "            while n%p == 0:\n",
    "                n = n/p\n",
    "        return n==1\n",
    "            "
   ]
  },
  {
   "cell_type": "code",
   "execution_count": 26,
   "id": "a2bbd754-cc65-474d-9ee5-8b2f47f2f3c3",
   "metadata": {},
   "outputs": [
    {
     "data": {
      "text/plain": [
       "False"
      ]
     },
     "execution_count": 26,
     "metadata": {},
     "output_type": "execute_result"
    }
   ],
   "source": [
    "s=Solution()\n",
    "s.isUgly(14)"
   ]
  },
  {
   "cell_type": "markdown",
   "id": "21ed686c-5d08-40ae-85e5-4d83d6aeac39",
   "metadata": {},
   "source": [
    "# 58. Length of Last Word (string)\n",
    "<div><p>Given a string <code>s</code> consisting&nbsp;of some words separated by some number of spaces, return <em>the length of the <strong>last</strong> word in the string.</em></p>\n",
    "\n",
    "<p>A <strong>word</strong> is a maximal substring consisting of non-space characters only.</p>\n",
    "\n",
    "<p>&nbsp;</p>\n",
    "<p><strong>Example 1:</strong></p>\n",
    "\n",
    "<pre><strong>Input:</strong> s = \"Hello World\"\n",
    "<strong>Output:</strong> 5\n",
    "<strong>Explanation:</strong> The last word is \"World\" with length 5.\n",
    "</pre>\n",
    "\n",
    "<p><strong>Example 2:</strong></p>\n",
    "\n",
    "<pre><strong>Input:</strong> s = \"   fly me   to   the moon  \"\n",
    "<strong>Output:</strong> 4\n",
    "<strong>Explanation:</strong> The last word is \"moon\" with length 4.\n",
    "</pre>\n",
    "\n",
    "<p><strong>Example 3:</strong></p>\n",
    "\n",
    "<pre><strong>Input:</strong> s = \"luffy is still joyboy\"\n",
    "<strong>Output:</strong> 6\n",
    "<strong>Explanation:</strong> The last word is \"joyboy\" with length 6.\n",
    "</pre>\n",
    "\n",
    "<p>&nbsp;</p>\n",
    "<p><strong>Constraints:</strong></p>\n",
    "\n",
    "<ul>\n",
    "\t<li><code>1 &lt;= s.length &lt;= 10<sup>4</sup></code></li>\n",
    "\t<li><code>s</code> consists of only English letters and spaces <code>' '</code>.</li>\n",
    "\t<li>There will be at least one word in <code>s</code>.</li>\n",
    "</ul>\n",
    "</div>"
   ]
  },
  {
   "cell_type": "code",
   "execution_count": 29,
   "id": "93a28a12-735e-439e-b981-f26f4f6497c6",
   "metadata": {},
   "outputs": [],
   "source": [
    "class Solution:\n",
    "    # 1st approach\n",
    "    def LengthOfLastWord(self, s:str)->int:\n",
    "        i = len(s)-1\n",
    "        length = 0\n",
    "        while s[i]==\" \":\n",
    "            i -= 1\n",
    "        while s[i]!=\" \" and i >=0:\n",
    "            length += 1\n",
    "            i -= 1\n",
    "        return length\n",
    "    \n",
    "    # 2nd approach\n",
    "    def LengthOfLastWord2(self, s:str)->int:\n",
    "        return len(s.split()[-1])"
   ]
  },
  {
   "cell_type": "code",
   "execution_count": 29,
   "id": "b448c589-87bb-4165-a2bd-a63597cbc7d7",
   "metadata": {},
   "outputs": [
    {
     "data": {
      "text/plain": [
       "5"
      ]
     },
     "execution_count": 29,
     "metadata": {},
     "output_type": "execute_result"
    }
   ],
   "source": [
    "s=Solution()\n",
    "s1=\"Hello World\"\n",
    "s2=\"    fly me    to   the moon  \"\n",
    "\n",
    "s.LengthOfLastWord(s1)"
   ]
  },
  {
   "cell_type": "code",
   "execution_count": 30,
   "id": "6abfa457-6d0d-4957-bc45-b363268785ce",
   "metadata": {},
   "outputs": [
    {
     "data": {
      "text/plain": [
       "4"
      ]
     },
     "execution_count": 30,
     "metadata": {},
     "output_type": "execute_result"
    }
   ],
   "source": [
    "s.LengthOfLastWord(s2)"
   ]
  },
  {
   "cell_type": "markdown",
   "id": "7b6141c0-594c-41f2-8e85-c0c6b7a9efe6",
   "metadata": {},
   "source": [
    "# 929. Unique Email Addresses (array, string, hash)\n",
    "<div><p>Every <strong>valid email</strong> consists of a <strong>local name</strong> and a <strong>domain name</strong>, separated by the <code>'@'</code> sign. Besides lowercase letters, the email may contain one or more <code>'.'</code> or <code>'+'</code>.</p>\n",
    "\n",
    "<ul>\n",
    "\t<li>For example, in <code>\"alice@leetcode.com\"</code>, <code>\"alice\"</code> is the <strong>local name</strong>, and <code>\"leetcode.com\"</code> is the <strong>domain name</strong>.</li>\n",
    "</ul>\n",
    "\n",
    "<p>If you add periods <code>'.'</code> between some characters in the <strong>local name</strong> part of an email address, mail sent there will be forwarded to the same address without dots in the local name. Note that this rule <strong>does not apply</strong> to <strong>domain names</strong>.</p>\n",
    "\n",
    "<ul>\n",
    "\t<li>For example, <code>\"alice.z@leetcode.com\"</code> and <code>\"alicez@leetcode.com\"</code> forward to the same email address.</li>\n",
    "</ul>\n",
    "\n",
    "<p>If you add a plus <code>'+'</code> in the <strong>local name</strong>, everything after the first plus sign <strong>will be ignored</strong>. This allows certain emails to be filtered. Note that this rule <strong>does not apply</strong> to <strong>domain names</strong>.</p>\n",
    "\n",
    "<ul>\n",
    "\t<li>For example, <code>\"m.y+name@email.com\"</code> will be forwarded to <code>\"my@email.com\"</code>.</li>\n",
    "</ul>\n",
    "\n",
    "<p>It is possible to use both of these rules at the same time.</p>\n",
    "\n",
    "<p>Given an array of strings <code>emails</code> where we send one email to each <code>emails[i]</code>, return <em>the number of different addresses that actually receive mails</em>.</p>\n",
    "\n",
    "<p>&nbsp;</p>\n",
    "<p><strong>Example 1:</strong></p>\n",
    "\n",
    "<pre><strong>Input:</strong> emails = [\"test.email+alex@leetcode.com\",\"test.e.mail+bob.cathy@leetcode.com\",\"testemail+david@lee.tcode.com\"]\n",
    "<strong>Output:</strong> 2\n",
    "<strong>Explanation:</strong> \"testemail@leetcode.com\" and \"testemail@lee.tcode.com\" actually receive mails.\n",
    "</pre>\n",
    "\n",
    "<p><strong>Example 2:</strong></p>\n",
    "\n",
    "<pre><strong>Input:</strong> emails = [\"a@leetcode.com\",\"b@leetcode.com\",\"c@leetcode.com\"]\n",
    "<strong>Output:</strong> 3\n",
    "</pre>\n",
    "\n",
    "<p>&nbsp;</p>\n",
    "<p><strong>Constraints:</strong></p>\n",
    "\n",
    "<ul>\n",
    "\t<li><code>1 &lt;= emails.length &lt;= 100</code></li>\n",
    "\t<li><code>1 &lt;= emails[i].length &lt;= 100</code></li>\n",
    "\t<li><code>emails[i]</code> consist of lowercase English letters, <code>'+'</code>, <code>'.'</code> and <code>'@'</code>.</li>\n",
    "\t<li>Each <code>emails[i]</code> contains exactly one <code>'@'</code> character.</li>\n",
    "\t<li>All local and domain names are non-empty.</li>\n",
    "\t<li>Local names do not start with a <code>'+'</code> character.</li>\n",
    "\t<li>Domain names end with the <code>\".com\"</code> suffix.</li>\n",
    "</ul>\n",
    "</div>"
   ]
  },
  {
   "cell_type": "code",
   "execution_count": 32,
   "id": "01136a86-4c61-4571-9479-3a371f3fd6d5",
   "metadata": {},
   "outputs": [],
   "source": [
    "class Solution:\n",
    "    def numUniqueEmails(self, emails: list[str])->int:\n",
    "        unique = set()\n",
    "        for x in emails:\n",
    "            local, domain = x.split('@')\n",
    "            local = local.replace('.','')\n",
    "            local = local.split('+')[0]\n",
    "            unique.add((local, domain))\n",
    "        return len(unique)"
   ]
  },
  {
   "cell_type": "code",
   "execution_count": 38,
   "id": "228e3ac1-e4d2-4c29-8fef-c9673707e48d",
   "metadata": {},
   "outputs": [],
   "source": [
    "class Solution:\n",
    "    def numUniqueEmails(self, emails: list[str])->int:\n",
    "        unique = set()\n",
    "        for e in emails:\n",
    "            local, domain = e.split(\"@\")\n",
    "            local = local.split(\"+\")[0]\n",
    "            local = local.replace(\".\",\"\")\n",
    "            unique.add((local,domain))\n",
    "        return len(unique)"
   ]
  },
  {
   "cell_type": "code",
   "execution_count": 33,
   "id": "67be5926-3ee7-40cb-9f74-f3d4ed0b2e6b",
   "metadata": {},
   "outputs": [
    {
     "data": {
      "text/plain": [
       "3"
      ]
     },
     "execution_count": 33,
     "metadata": {},
     "output_type": "execute_result"
    }
   ],
   "source": [
    "s=Solution()\n",
    "emails=[\"a@leetcode.com\",\"b@leetcode.com\",\"c@leetcode.com\"]\n",
    "s.numUniqueEmails(emails)"
   ]
  },
  {
   "cell_type": "code",
   "execution_count": 34,
   "id": "f61326af-dc00-439f-ad9e-42eae6106af9",
   "metadata": {},
   "outputs": [
    {
     "data": {
      "text/plain": [
       "2"
      ]
     },
     "execution_count": 34,
     "metadata": {},
     "output_type": "execute_result"
    }
   ],
   "source": [
    "emails2= [\"test.email+alex@leetcode.com\",\"test.e.mail+bob.cathy@leetcode.com\",\"testemail+david@lee.tcode.com\"]\n",
    "s.numUniqueEmails(emails2)"
   ]
  },
  {
   "cell_type": "markdown",
   "id": "7b744ecd-35c5-4743-ad0c-3e165fe13683",
   "metadata": {},
   "source": [
    "# 746. Min Cost Climbing Stairs (array, dynamic programming)\n",
    "<div class=\"content__u3I1 question-content__JfgR\"><div><p>You are given an integer array <code>cost</code> where <code>cost[i]</code> is the cost of <code>i<sup>th</sup></code> step on a staircase. Once you pay the cost, you can either climb one or two steps.</p>\n",
    "\n",
    "<p>You can either start from the step with index <code>0</code>, or the step with index <code>1</code>.</p>\n",
    "\n",
    "<p>Return <em>the minimum cost to reach the top of the floor</em>.</p>\n",
    "\n",
    "<p>&nbsp;</p>\n",
    "<p><strong>Example 1:</strong></p>\n",
    "\n",
    "<pre><strong>Input:</strong> cost = [10,<u>15</u>,20]\n",
    "<strong>Output:</strong> 15\n",
    "<strong>Explanation:</strong> You will start at index 1.\n",
    "- Pay 15 and climb two steps to reach the top.\n",
    "The total cost is 15.\n",
    "</pre>\n",
    "\n",
    "<p><strong>Example 2:</strong></p>\n",
    "\n",
    "<pre><strong>Input:</strong> cost = [<u>1</u>,100,<u>1</u>,1,<u>1</u>,100,<u>1</u>,<u>1</u>,100,<u>1</u>]\n",
    "<strong>Output:</strong> 6\n",
    "<strong>Explanation:</strong> You will start at index 0.\n",
    "- Pay 1 and climb two steps to reach index 2.\n",
    "- Pay 1 and climb two steps to reach index 4.\n",
    "- Pay 1 and climb two steps to reach index 6.\n",
    "- Pay 1 and climb one step to reach index 7.\n",
    "- Pay 1 and climb two steps to reach index 9.\n",
    "- Pay 1 and climb one step to reach the top.\n",
    "The total cost is 6.\n",
    "</pre>\n",
    "\n",
    "<p>&nbsp;</p>\n",
    "<p><strong>Constraints:</strong></p>\n",
    "\n",
    "<ul>\n",
    "\t<li><code>2 &lt;= cost.length &lt;= 1000</code></li>\n",
    "\t<li><code>0 &lt;= cost[i] &lt;= 999</code></li>\n",
    "</ul>\n",
    "</div></div>"
   ]
  },
  {
   "attachments": {
    "d434de0b-f166-401b-9f6b-bd01c756c1f1.png": {
     "image/png": "[encoded data removed]"
    }
   },
   "cell_type": "markdown",
   "id": "036e8444-35be-45e1-845b-fe49992ac719",
   "metadata": {},
   "source": [
    "![image.png](attachment:d434de0b-f166-401b-9f6b-bd01c756c1f1.png)"
   ]
  },
  {
   "cell_type": "markdown",
   "id": "e2bce3a3-bce1-4856-8dc9-57e590a63603",
   "metadata": {},
   "source": [
    "cost = [1,100,1,1,1,100,1,1,100,1] 0\n",
    "\n",
    "* starting at 8, the min(100+1, 100+0) = 100; cost = [1,100,1,1,1,100,1,1,100,1,0]\n",
    "* starting at 7, the min(1+100, 1+1) = 2; cost = [1,100,1,1,1,100,1,2,100,1,0]\n",
    "* starting at 6, the min(1+2, 1+100) = 3; cost = [1,100,1,1,1,100,3,2,100,1,0]\n",
    "* starting at 5, the min(100+3, 100+2) = 102; cost = [1,100,1,1,1,102,3,2,100,1,0]\n",
    "* starting at 4, the min(1+102, 1+3) = 4; cost = [1,100,1,1,4,102,3,2,100,1,0]\n",
    "* starting at 3, the min(1+4, 1+102) = 5; cost = [1,100,1,5,4,102,3,2,100,1,0]\n",
    "* starting at 2, the min(1+5, 1+4) = 5; cost = [1,100,5,5,4,102,3,2,100,1,0]\n",
    "* starting at 1, the min(100+5, 100+5) = 105; cost= [1,105,5,5,4,102,3,2,100,1,0]\n",
    "* starting at 0, the min(1+105, 1+5) = 6; cost = [6,105,5,5,4,102,3,2,100,1,0]"
   ]
  },
  {
   "cell_type": "code",
   "execution_count": 43,
   "id": "87ff4132-00fe-40b2-b719-7738c8b78c16",
   "metadata": {},
   "outputs": [],
   "source": [
    "class Solution:\n",
    "    def minCostClimbingStairs(self, cost:list[int])->int:\n",
    "        cost.append(0)\n",
    "        onestep, twostep = 0, 0\n",
    "        for i in range(len(cost)-3, -1, -1):\n",
    "            onestep = cost[i] + cost[i+1]\n",
    "            twostep = cost[i] + cost[i+2]\n",
    "            cost[i] = min(onestep, twostep)\n",
    "        return min(cost[0], cost[1])"
   ]
  },
  {
   "cell_type": "code",
   "execution_count": 44,
   "id": "c0141088-1b77-420b-b179-aca2cc39bb32",
   "metadata": {},
   "outputs": [
    {
     "data": {
      "text/plain": [
       "15"
      ]
     },
     "execution_count": 44,
     "metadata": {},
     "output_type": "execute_result"
    }
   ],
   "source": [
    "s=Solution()\n",
    "cost=[10,15,20]\n",
    "s.minCostClimbingStairs(cost)"
   ]
  },
  {
   "cell_type": "code",
   "execution_count": 45,
   "id": "6a1e2819-5954-4f23-bce8-6ace4227b1f6",
   "metadata": {},
   "outputs": [
    {
     "data": {
      "text/plain": [
       "6"
      ]
     },
     "execution_count": 45,
     "metadata": {},
     "output_type": "execute_result"
    }
   ],
   "source": [
    "cost=[1,100,1,1,1,100,1,1,100,1]\n",
    "s.minCostClimbingStairs(cost)"
   ]
  },
  {
   "cell_type": "markdown",
   "id": "c1984b72-3de8-4273-9a3c-3038f48236eb",
   "metadata": {},
   "source": [
    "# 125. Valid Palindrome (two pointers, string)\n",
    "<div><p>A phrase is a <strong>palindrome</strong> if, after converting all uppercase letters into lowercase letters and removing all non-alphanumeric characters, it reads the same forward and backward. Alphanumeric characters include letters and numbers.</p>\n",
    "\n",
    "<p>Given a string <code>s</code>, return <code>true</code><em> if it is a <strong>palindrome</strong>, or </em><code>false</code><em> otherwise</em>.</p>\n",
    "\n",
    "<p>&nbsp;</p>\n",
    "<p><strong>Example 1:</strong></p>\n",
    "\n",
    "<pre><strong>Input:</strong> s = \"A man, a plan, a canal: Panama\"\n",
    "<strong>Output:</strong> true\n",
    "<strong>Explanation:</strong> \"amanaplanacanalpanama\" is a palindrome.\n",
    "</pre>\n",
    "\n",
    "<p><strong>Example 2:</strong></p>\n",
    "\n",
    "<pre><strong>Input:</strong> s = \"race a car\"\n",
    "<strong>Output:</strong> false\n",
    "<strong>Explanation:</strong> \"raceacar\" is not a palindrome.\n",
    "</pre>\n",
    "\n",
    "<p><strong>Example 3:</strong></p>\n",
    "\n",
    "<pre><strong>Input:</strong> s = \" \"\n",
    "<strong>Output:</strong> true\n",
    "<strong>Explanation:</strong> s is an empty string \"\" after removing non-alphanumeric characters.\n",
    "Since an empty string reads the same forward and backward, it is a palindrome.\n",
    "</pre>\n",
    "\n",
    "<p>&nbsp;</p>\n",
    "<p><strong>Constraints:</strong></p>\n",
    "\n",
    "<ul>\n",
    "\t<li><code>1 &lt;= s.length &lt;= 2 * 10<sup>5</sup></code></li>\n",
    "\t<li><code>s</code> consists only of printable ASCII characters.</li>\n",
    "</ul>\n",
    "</div>"
   ]
  },
  {
   "cell_type": "code",
   "execution_count": 51,
   "id": "24d70756-db49-485c-b879-1d706b9f7d74",
   "metadata": {},
   "outputs": [],
   "source": [
    "class Solution():\n",
    "    # first approach\n",
    "    def alphanums(self, s: str)->bool:\n",
    "        return (ord(\"A\") <= ord(s) <= ord(\"Z\") or\n",
    "               ord(\"a\") <= ord(s) <= ord(\"z\") or\n",
    "               ord(\"0\") <= ord(s) <= ord(\"9\"))\n",
    "\n",
    "    def isPalindrome(self, s: str)->bool:\n",
    "        newstr=\"\"\n",
    "        for c in s:\n",
    "            if self.alphanums(c):\n",
    "                newstr += c.lower()\n",
    "        return newstr == newstr[::-1]\n",
    "    \n",
    "    # second approach\n",
    "    def isPalindrome2(self, s: str)->bool:\n",
    "        newstr = ''\n",
    "        for c in s:\n",
    "            if c.isalnum():\n",
    "                newstr += c.lower()\n",
    "        return newstr == newstr[::-1]\n",
    "            \n",
    "        "
   ]
  },
  {
   "cell_type": "code",
   "execution_count": 51,
   "id": "c1fb9908-29c8-4176-8107-d7fb705eecf1",
   "metadata": {},
   "outputs": [
    {
     "data": {
      "text/plain": [
       "True"
      ]
     },
     "execution_count": 51,
     "metadata": {},
     "output_type": "execute_result"
    }
   ],
   "source": [
    "s=Solution()\n",
    "s1=\"A man, a plan, a canal: Panama\"\n",
    "s.isPalindrome2(s1)"
   ]
  },
  {
   "cell_type": "code",
   "execution_count": 52,
   "id": "8584c831-f1c5-4f12-9282-f8f75c4db4fd",
   "metadata": {},
   "outputs": [
    {
     "data": {
      "text/plain": [
       "False"
      ]
     },
     "execution_count": 52,
     "metadata": {},
     "output_type": "execute_result"
    }
   ],
   "source": [
    "s2=\"race a car\"\n",
    "s.isPalindrome2(s2)"
   ]
  },
  {
   "cell_type": "markdown",
   "id": "f46529e6-bf9b-4355-8b3a-f97e99792631",
   "metadata": {},
   "source": [
    "# 205. Isomorphic Strings (hash, string)\n",
    "<div><p>Given two strings <code>s</code> and <code>t</code>, <em>determine if they are isomorphic</em>.</p>\n",
    "\n",
    "<p>Two strings <code>s</code> and <code>t</code> are isomorphic if the characters in <code>s</code> can be replaced to get <code>t</code>.</p>\n",
    "\n",
    "<p>All occurrences of a character must be replaced with another character while preserving the order of characters. No two characters may map to the same character, but a character may map to itself.</p>\n",
    "\n",
    "<p>&nbsp;</p>\n",
    "<p><strong>Example 1:</strong></p>\n",
    "<pre><strong>Input:</strong> s = \"egg\", t = \"add\"\n",
    "<strong>Output:</strong> true\n",
    "</pre><p><strong>Example 2:</strong></p>\n",
    "<pre><strong>Input:</strong> s = \"foo\", t = \"bar\"\n",
    "<strong>Output:</strong> false\n",
    "</pre><p><strong>Example 3:</strong></p>\n",
    "<pre><strong>Input:</strong> s = \"paper\", t = \"title\"\n",
    "<strong>Output:</strong> true\n",
    "</pre>\n",
    "<p>&nbsp;</p>\n",
    "<p><strong>Constraints:</strong></p>\n",
    "\n",
    "<ul>\n",
    "\t<li><code>1 &lt;= s.length &lt;= 5 * 10<sup>4</sup></code></li>\n",
    "\t<li><code>t.length == s.length</code></li>\n",
    "\t<li><code>s</code> and <code>t</code> consist of any valid ascii character.</li>\n",
    "</ul>\n",
    "</div>"
   ]
  },
  {
   "cell_type": "markdown",
   "id": "2c4769a1-8280-4352-a380-0de9bd7dcb9c",
   "metadata": {},
   "source": [
    "Hints:\n",
    "* create two hashmaps\n",
    "* mapST = {f:b, o:a, o:r} **o maps to two letters**\n",
    "* mapTS = {b:f, a:o, r:o}"
   ]
  },
  {
   "cell_type": "code",
   "execution_count": 62,
   "id": "ca2c889c-54e4-4f59-b6eb-7a39231cc104",
   "metadata": {},
   "outputs": [],
   "source": [
    "class Solution:\n",
    "    def isIsomorphic(self, s:str, t:str) -> bool:\n",
    "        mapST, mapTS = {}, {}\n",
    "        for i, j in zip(s,t):\n",
    "            print(mapST, mapTS)\n",
    "            if ((i in mapST) and (mapST[i]!=j)) or ((j in mapTS) and (mapTS[j]!=i)):\n",
    "                return False \n",
    "            else: \n",
    "                mapST[i]= j \n",
    "                mapTS[j]= i\n",
    "        return True\n"
   ]
  },
  {
   "cell_type": "code",
   "execution_count": 68,
   "id": "0ebc046e-9e1d-483d-9d82-ae29e3dc733f",
   "metadata": {},
   "outputs": [
    {
     "data": {
      "text/plain": [
       "True"
      ]
     },
     "execution_count": 68,
     "metadata": {},
     "output_type": "execute_result"
    }
   ],
   "source": [
    "s=Solution()\n",
    "s1=\"egg\"\n",
    "t1=\"add\"\n",
    "s.isIsomorphic(s1,t1)"
   ]
  },
  {
   "cell_type": "code",
   "execution_count": 69,
   "id": "801f604a-60bb-49ae-8ffb-f4ba1659348e",
   "metadata": {},
   "outputs": [
    {
     "data": {
      "text/plain": [
       "False"
      ]
     },
     "execution_count": 69,
     "metadata": {},
     "output_type": "execute_result"
    }
   ],
   "source": [
    "s2=\"foo\"\n",
    "t2=\"bar\"\n",
    "s.isIsomorphic(s2,t2)"
   ]
  },
  {
   "cell_type": "markdown",
   "id": "9a55e229-17bf-4820-9855-e0e17c5bc4f8",
   "metadata": {},
   "source": [
    "# 217. Contains Duplicate (array, hash, sorting)\n",
    "<div><p>Given an integer array <code>nums</code>, return <code>true</code> if any value appears <strong>at least twice</strong> in the array, and return <code>false</code> if every element is distinct.</p>\n",
    "\n",
    "<p>&nbsp;</p>\n",
    "<p><strong>Example 1:</strong></p>\n",
    "<pre><strong>Input:</strong> nums = [1,2,3,1]\n",
    "<strong>Output:</strong> true\n",
    "</pre><p><strong>Example 2:</strong></p>\n",
    "<pre><strong>Input:</strong> nums = [1,2,3,4]\n",
    "<strong>Output:</strong> false\n",
    "</pre><p><strong>Example 3:</strong></p>\n",
    "<pre><strong>Input:</strong> nums = [1,1,1,3,3,4,3,2,4,2]\n",
    "<strong>Output:</strong> true\n",
    "</pre>\n",
    "<p>&nbsp;</p>\n",
    "<p><strong>Constraints:</strong></p>\n",
    "\n",
    "<ul>\n",
    "\t<li><code>1 &lt;= nums.length &lt;= 10<sup>5</sup></code></li>\n",
    "\t<li><code>-10<sup>9</sup> &lt;= nums[i] &lt;= 10<sup>9</sup></code></li>\n",
    "</ul>\n",
    "</div>"
   ]
  },
  {
   "cell_type": "code",
   "execution_count": 74,
   "id": "7c0a0a2b-124c-408a-84ef-c68b4fcd6a6d",
   "metadata": {},
   "outputs": [],
   "source": [
    "class Solution:\n",
    "    def containsDuplicate(self, nums: list[int])-> bool:\n",
    "        hashset = set()\n",
    "        for i in nums:\n",
    "            if i in hashset:\n",
    "                return True\n",
    "            hashset.add(i)\n",
    "        return False"
   ]
  },
  {
   "cell_type": "code",
   "execution_count": 75,
   "id": "a912e431-51b1-4df4-91a9-c7ddd9ba3b0d",
   "metadata": {},
   "outputs": [
    {
     "data": {
      "text/plain": [
       "True"
      ]
     },
     "execution_count": 75,
     "metadata": {},
     "output_type": "execute_result"
    }
   ],
   "source": [
    "s=Solution()\n",
    "nums=[1,2,3,1]\n",
    "s.containsDuplicate(nums)"
   ]
  },
  {
   "cell_type": "code",
   "execution_count": 76,
   "id": "51157c4d-f374-4944-8b1e-fe4a5b195447",
   "metadata": {},
   "outputs": [
    {
     "data": {
      "text/plain": [
       "False"
      ]
     },
     "execution_count": 76,
     "metadata": {},
     "output_type": "execute_result"
    }
   ],
   "source": [
    "nums=[1,2,3,4]\n",
    "s.containsDuplicate(nums)"
   ]
  },
  {
   "cell_type": "code",
   "execution_count": 77,
   "id": "1575ff7f-b600-4c89-bfd5-e8d6d92ac443",
   "metadata": {},
   "outputs": [
    {
     "data": {
      "text/plain": [
       "True"
      ]
     },
     "execution_count": 77,
     "metadata": {},
     "output_type": "execute_result"
    }
   ],
   "source": [
    "nums=[1,1,1,3,3,4,3,2,4,2]\n",
    "s.containsDuplicate(nums)"
   ]
  },
  {
   "cell_type": "markdown",
   "id": "e37ab412-1f07-45fa-a0d4-bf1a6d2eb32c",
   "metadata": {},
   "source": [
    "# 605. Can Place Flowers (array, greedy)\n",
    "<div><p>You have a long flowerbed in which some of the plots are planted, and some are not. However, flowers cannot be planted in <strong>adjacent</strong> plots.</p>\n",
    "\n",
    "<p>Given an integer array <code>flowerbed</code> containing <code>0</code>'s and <code>1</code>'s, where <code>0</code> means empty and <code>1</code> means not empty, and an integer <code>n</code>, return <em>if</em> <code>n</code> new flowers can be planted in the <code>flowerbed</code> without violating the no-adjacent-flowers rule.</p>\n",
    "\n",
    "<p>&nbsp;</p>\n",
    "<p><strong>Example 1:</strong></p>\n",
    "<pre><strong>Input:</strong> flowerbed = [1,0,0,0,1], n = 1\n",
    "<strong>Output:</strong> true\n",
    "</pre><p><strong>Example 2:</strong></p>\n",
    "<pre><strong>Input:</strong> flowerbed = [1,0,0,0,1], n = 2\n",
    "<strong>Output:</strong> false\n",
    "</pre>\n",
    "<p>&nbsp;</p>\n",
    "<p><strong>Constraints:</strong></p>\n",
    "\n",
    "<ul>\n",
    "\t<li><code>1 &lt;= flowerbed.length &lt;= 2 * 10<sup>4</sup></code></li>\n",
    "\t<li><code>flowerbed[i]</code> is <code>0</code> or <code>1</code>.</li>\n",
    "\t<li>There are no two adjacent flowers in <code>flowerbed</code>.</li>\n",
    "\t<li><code>0 &lt;= n &lt;= flowerbed.length</code></li>\n",
    "</ul>\n",
    "</div>"
   ]
  },
  {
   "cell_type": "markdown",
   "id": "0b538730-d44f-4c84-b210-549d7b14e840",
   "metadata": {},
   "source": [
    "Hints: \n",
    "* pretend flowerbed = 0 [0, 0, 1] 0 \n",
    "* If there are 3 contiguous 0, plant the flower in the middle."
   ]
  },
  {
   "cell_type": "code",
   "execution_count": 103,
   "id": "a944e178-1c92-4016-96a2-428d12b089ba",
   "metadata": {},
   "outputs": [],
   "source": [
    "class Solution:\n",
    "    def canPlaceFlowers(self, flowerbed:list[int], n:int) ->bool:\n",
    "        flowerbed = [0] + flowerbed + [0]\n",
    "        for i in range(1,len(flowerbed)-1): \n",
    "            if flowerbed[i - 1] == 0 and flowerbed[i] == 0 and flowerbed[i+1] == 0:\n",
    "                flowerbed[i] = 1\n",
    "                n-=1\n",
    "        return n<=0\n",
    "            "
   ]
  },
  {
   "cell_type": "code",
   "execution_count": 104,
   "id": "fcea105c-7777-46ea-a058-5016edb999e1",
   "metadata": {},
   "outputs": [
    {
     "data": {
      "text/plain": [
       "True"
      ]
     },
     "execution_count": 104,
     "metadata": {},
     "output_type": "execute_result"
    }
   ],
   "source": [
    "s=Solution()\n",
    "flowerbed=[1,0,0,0,1]\n",
    "s.canPlaceFlowers(flowerbed, 1)"
   ]
  },
  {
   "cell_type": "code",
   "execution_count": 105,
   "id": "9f9c7844-cdb5-4e25-bbaf-7c77fd3e9553",
   "metadata": {},
   "outputs": [
    {
     "data": {
      "text/plain": [
       "False"
      ]
     },
     "execution_count": 105,
     "metadata": {},
     "output_type": "execute_result"
    }
   ],
   "source": [
    "s.canPlaceFlowers(flowerbed, 2)"
   ]
  },
  {
   "cell_type": "markdown",
   "id": "5bdd8a76-bb61-4977-aa6c-26a408636d63",
   "metadata": {},
   "source": [
    "# 28. Implement strStr() (two pointers, string)\n",
    "<div class=\"content__u3I1 question-content__JfgR\"><div><p>Implement <a href=\"http://www.cplusplus.com/reference/cstring/strstr/\" target=\"_blank\">strStr()</a>.</p>\n",
    "\n",
    "<p>Return the index of the first occurrence of needle in haystack, or <code>-1</code> if <code>needle</code> is not part of <code>haystack</code>.</p>\n",
    "\n",
    "<p><strong>Clarification:</strong></p>\n",
    "\n",
    "<p>What should we return when <code>needle</code> is an empty string? This is a great question to ask during an interview.</p>\n",
    "\n",
    "<p>For the purpose of this problem, we will return 0 when <code>needle</code> is an empty string. This is consistent to C's&nbsp;<a href=\"http://www.cplusplus.com/reference/cstring/strstr/\" target=\"_blank\">strstr()</a> and Java's&nbsp;<a href=\"https://docs.oracle.com/javase/7/docs/api/java/lang/String.html#indexOf(java.lang.String)\" target=\"_blank\">indexOf()</a>.</p>\n",
    "\n",
    "<p>&nbsp;</p>\n",
    "<p><strong>Example 1:</strong></p>\n",
    "<pre><strong>Input:</strong> haystack = \"hello\", needle = \"ll\"\n",
    "<strong>Output:</strong> 2\n",
    "</pre><p><strong>Example 2:</strong></p>\n",
    "<pre><strong>Input:</strong> haystack = \"aaaaa\", needle = \"bba\"\n",
    "<strong>Output:</strong> -1\n",
    "</pre><p><strong>Example 3:</strong></p>\n",
    "<pre><strong>Input:</strong> haystack = \"\", needle = \"\"\n",
    "<strong>Output:</strong> 0\n",
    "</pre>\n",
    "<p>&nbsp;</p>\n",
    "<p><strong>Constraints:</strong></p>\n",
    "\n",
    "<ul>\n",
    "\t<li><code>0 &lt;= haystack.length, needle.length &lt;= 5 * 10<sup>4</sup></code></li>\n",
    "\t<li><code>haystack</code> and&nbsp;<code>needle</code> consist of only lower-case English characters.</li>\n",
    "</ul>\n",
    "</div></div>"
   ]
  },
  {
   "cell_type": "code",
   "execution_count": 114,
   "id": "b9f03a62-f5e5-44ba-9ce6-709ca917f059",
   "metadata": {},
   "outputs": [],
   "source": [
    "class Solution:\n",
    "    def strStr(self, haystack: str, needle: str)->int:\n",
    "        if needle == \"\":\n",
    "            return 0\n",
    "        for i in range(len(haystack)+1-len(needle)):\n",
    "            if haystack[i:i+len(needle)] == needle:\n",
    "                return i\n",
    "        return -1\n"
   ]
  },
  {
   "cell_type": "code",
   "execution_count": 115,
   "id": "a3419753-1cc5-4436-9b8a-5e1a64270db2",
   "metadata": {},
   "outputs": [
    {
     "data": {
      "text/plain": [
       "2"
      ]
     },
     "execution_count": 115,
     "metadata": {},
     "output_type": "execute_result"
    }
   ],
   "source": [
    "s=Solution()\n",
    "s.strStr(\"hello\", \"ll\")"
   ]
  },
  {
   "cell_type": "code",
   "execution_count": 116,
   "id": "f0718dbb-cc5a-43b8-8ad5-61cc365b5efa",
   "metadata": {},
   "outputs": [
    {
     "data": {
      "text/plain": [
       "-1"
      ]
     },
     "execution_count": 116,
     "metadata": {},
     "output_type": "execute_result"
    }
   ],
   "source": [
    "s.strStr(\"aaaaa\", \"bba\")"
   ]
  },
  {
   "cell_type": "code",
   "execution_count": null,
   "id": "7eb6aacc-ff13-4cf7-a498-5b95467125d0",
   "metadata": {},
   "outputs": [],
   "source": []
  },
  {
   "cell_type": "code",
   "execution_count": null,
   "id": "1a0ee078-1279-404c-9b37-b853495df2eb",
   "metadata": {},
   "outputs": [],
   "source": []
  },
  {
   "cell_type": "code",
   "execution_count": null,
   "id": "84c2f2b1-3041-4fdb-99bf-81038763ebf6",
   "metadata": {},
   "outputs": [],
   "source": []
  }
 ],
 "metadata": {
  "kernelspec": {
   "display_name": "Python 3 (ipykernel)",
   "language": "python",
   "name": "python3"
  },
  "language_info": {
   "codemirror_mode": {
    "name": "ipython",
    "version": 3
   },
   "file_extension": ".py",
   "mimetype": "text/x-python",
   "name": "python",
   "nbconvert_exporter": "python",
   "pygments_lexer": "ipython3",
   "version": "3.10.2"
  }
 },
 "nbformat": 4,
 "nbformat_minor": 5
}
